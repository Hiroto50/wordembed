{
 "cells": [
  {
   "cell_type": "code",
   "execution_count": 1,
   "metadata": {},
   "outputs": [],
   "source": [
    "from sklearn.model_selection import train_test_split\n",
    "import torch\n",
    "import torch.nn as nn\n",
    "\n",
    "from src.uti.database import get_databases\n",
    "\n",
    "from src.classess.PreProcess import PreProcess\n",
    "from src.classess.Tokenize import Tokenize\n",
    "from src.classess.Word2Vec import Word2Vec"
   ]
  },
  {
   "cell_type": "code",
   "execution_count": 1,
   "metadata": {},
   "outputs": [
    {
     "ename": "NameError",
     "evalue": "name 'get_databases' is not defined",
     "output_type": "error",
     "traceback": [
      "\u001b[0;31m---------------------------------------------------------------------------\u001b[0m",
      "\u001b[0;31mNameError\u001b[0m                                 Traceback (most recent call last)",
      "Cell \u001b[0;32mIn[1], line 1\u001b[0m\n\u001b[0;32m----> 1\u001b[0m df1, df2 \u001b[39m=\u001b[39m get_databases()\n",
      "\u001b[0;31mNameError\u001b[0m: name 'get_databases' is not defined"
     ]
    }
   ],
   "source": [
    "df1, df2 = get_databases()"
   ]
  },
  {
   "cell_type": "code",
   "execution_count": 9,
   "metadata": {},
   "outputs": [],
   "source": [
    "pre_process = PreProcess()\n",
    "tokenize = Tokenize(2)"
   ]
  },
  {
   "cell_type": "code",
   "execution_count": 11,
   "metadata": {},
   "outputs": [
    {
     "ename": "NameError",
     "evalue": "name 'df1' is not defined",
     "output_type": "error",
     "traceback": [
      "\u001b[0;31m---------------------------------------------------------------------------\u001b[0m",
      "\u001b[0;31mNameError\u001b[0m                                 Traceback (most recent call last)",
      "Cell \u001b[0;32mIn[11], line 1\u001b[0m\n\u001b[0;32m----> 1\u001b[0m df1_preprocess \u001b[39m=\u001b[39m [pre_process\u001b[39m.\u001b[39mapply_all(text) \u001b[39mfor\u001b[39;00m text \u001b[39min\u001b[39;00m df1]\n\u001b[1;32m      2\u001b[0m tokenize\u001b[39m.\u001b[39mtokenize(df1_preprocess)\n\u001b[1;32m      3\u001b[0m train_examples \u001b[39m=\u001b[39m tokenize\u001b[39m.\u001b[39mget_train_examples(df1_preprocess)\n",
      "\u001b[0;31mNameError\u001b[0m: name 'df1' is not defined"
     ]
    }
   ],
   "source": [
    "df1_preprocess = [pre_process.apply_all(text) for text in df1]\n",
    "tokenize.tokenize(df1_preprocess)\n",
    "train_examples = tokenize.get_train_examples(df1_preprocess)\n"
   ]
  }
 ],
 "metadata": {
  "kernelspec": {
   "display_name": "Python 3",
   "language": "python",
   "name": "python3"
  },
  "language_info": {
   "codemirror_mode": {
    "name": "ipython",
    "version": 3
   },
   "file_extension": ".py",
   "mimetype": "text/x-python",
   "name": "python",
   "nbconvert_exporter": "python",
   "pygments_lexer": "ipython3",
   "version": "3.10.6"
  },
  "orig_nbformat": 4
 },
 "nbformat": 4,
 "nbformat_minor": 2
}
